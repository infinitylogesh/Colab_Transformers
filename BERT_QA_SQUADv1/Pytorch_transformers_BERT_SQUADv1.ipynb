{
  "nbformat": 4,
  "nbformat_minor": 0,
  "metadata": {
    "colab": {
      "name": "Pytorch-transformers-BERT-SQUADv1.ipynb",
      "version": "0.3.2",
      "provenance": [],
      "collapsed_sections": []
    },
    "kernelspec": {
      "name": "python3",
      "display_name": "Python 3"
    }
  },
  "cells": [
    {
      "cell_type": "code",
      "metadata": {
        "id": "UAntcHScrH0a",
        "colab_type": "code",
        "outputId": "f955dc9b-64b0-4140-f11c-ab4d3bca552d",
        "colab": {
          "base_uri": "https://localhost:8080/",
          "height": 122
        }
      },
      "source": [
        "from google.colab import drive\n",
        "drive.mount('/content/drive')"
      ],
      "execution_count": 0,
      "outputs": [
        {
          "output_type": "stream",
          "text": [
            "Go to this URL in a browser: https://accounts.google.com/o/oauth2/auth?client_id=947318989803-6bn6qk8qdgf4n4g3pfee6491hc0brc4i.apps.googleusercontent.com&redirect_uri=urn%3Aietf%3Awg%3Aoauth%3A2.0%3Aoob&scope=email%20https%3A%2F%2Fwww.googleapis.com%2Fauth%2Fdocs.test%20https%3A%2F%2Fwww.googleapis.com%2Fauth%2Fdrive%20https%3A%2F%2Fwww.googleapis.com%2Fauth%2Fdrive.photos.readonly%20https%3A%2F%2Fwww.googleapis.com%2Fauth%2Fpeopleapi.readonly&response_type=code\n",
            "\n",
            "Enter your authorization code:\n",
            "··········\n",
            "Mounted at /content/drive\n"
          ],
          "name": "stdout"
        }
      ]
    },
    {
      "cell_type": "code",
      "metadata": {
        "id": "2vCPaEId-k4E",
        "colab_type": "code",
        "colab": {}
      },
      "source": [
        "!pip install pytorch-transformers"
      ],
      "execution_count": 0,
      "outputs": []
    },
    {
      "cell_type": "code",
      "metadata": {
        "id": "-jVXTyc9ATQW",
        "colab_type": "code",
        "colab": {}
      },
      "source": [
        "!mkdir py-transformers\n",
        "!wget -O py-transformers/train-v1.1.json https://rajpurkar.github.io/SQuAD-explorer/dataset/train-v1.1.json \n",
        "!wget -O py-transformers/dev-v1.1.json  https://rajpurkar.github.io/SQuAD-explorer/dataset/dev-v1.1.json\n",
        "!wget -O py-transformers/evaluate-v1.1.py https://github.com/allenai/bi-att-flow/blob/master/squad/evaluate-v1.1.py"
      ],
      "execution_count": 0,
      "outputs": []
    },
    {
      "cell_type": "code",
      "metadata": {
        "id": "6qUGuJHfFZIt",
        "colab_type": "code",
        "colab": {}
      },
      "source": [
        "!pip install tensorboardX"
      ],
      "execution_count": 0,
      "outputs": []
    },
    {
      "cell_type": "code",
      "metadata": {
        "id": "DVd1tWG5BFd2",
        "colab_type": "code",
        "colab": {}
      },
      "source": [
        "!wget https://github.com/huggingface/pytorch-transformers/raw/master/examples/run_squad.py "
      ],
      "execution_count": 0,
      "outputs": []
    },
    {
      "cell_type": "code",
      "metadata": {
        "id": "YlpgOjrLF2vr",
        "colab_type": "code",
        "colab": {}
      },
      "source": [
        "!wget https://raw.githubusercontent.com/huggingface/pytorch-transformers/master/examples/utils_squad.py"
      ],
      "execution_count": 0,
      "outputs": []
    },
    {
      "cell_type": "code",
      "metadata": {
        "id": "xR2O2OOvGEWE",
        "colab_type": "code",
        "colab": {}
      },
      "source": [
        "!wget https://github.com/huggingface/pytorch-transformers/raw/master/examples/utils_squad_evaluate.py"
      ],
      "execution_count": 0,
      "outputs": []
    },
    {
      "cell_type": "code",
      "metadata": {
        "id": "1KbGIO6_I_fn",
        "colab_type": "code",
        "colab": {}
      },
      "source": [
        "!wget https://github.com/allenai/bi-att-flow/raw/master/squad/evaluate-v1.1.py"
      ],
      "execution_count": 0,
      "outputs": []
    },
    {
      "cell_type": "code",
      "metadata": {
        "id": "FT4rKweaCACu",
        "colab_type": "code",
        "colab": {}
      },
      "source": [
        "# !export SQUAD_DIR= ./py-transformers\n",
        "\n",
        "!python run_squad.py \\\n",
        "  --model_type bert \\\n",
        "  --model_name_or_path bert-base-uncased \\\n",
        "  --do_train \\\n",
        "  --do_eval \\\n",
        "  --do_lower_case \\\n",
        "  --train_file py-transformers/train-v1.1.json \\\n",
        "  --predict_file py-transformers/dev-v1.1.json \\\n",
        "  --per_gpu_train_batch_size 12 \\\n",
        "  --learning_rate 3e-5 \\\n",
        "  --num_train_epochs 2.0 \\\n",
        "  --max_seq_length 384 \\\n",
        "  --doc_stride 128 \\\n",
        "  --output_dir output"
      ],
      "execution_count": 0,
      "outputs": []
    },
    {
      "cell_type": "code",
      "metadata": {
        "id": "S5PanS6xG9gq",
        "colab_type": "code",
        "colab": {}
      },
      "source": [
        "!cat output/nbest_predictions_.json"
      ],
      "execution_count": 0,
      "outputs": []
    },
    {
      "cell_type": "markdown",
      "metadata": {
        "id": "RVslQjAHfHFf",
        "colab_type": "text"
      },
      "source": [
        "### Artifacts\n",
        "\n",
        "1. *./output* folder has all the predictions , final pretrained model , tokenizer and config .\n",
        "\n",
        "2. Since there is a theat of colab runtime being disconnected anytime. It is a best practice to download the artifacts or upload it to google drive for late inference. "
      ]
    },
    {
      "cell_type": "markdown",
      "metadata": {
        "id": "gY9TUv3FdVIk",
        "colab_type": "text"
      },
      "source": [
        "## Inference from the trained model\n"
      ]
    },
    {
      "cell_type": "code",
      "metadata": {
        "id": "v4C38UI0JR1T",
        "colab_type": "code",
        "colab": {}
      },
      "source": [
        "from pytorch_transformers import BertTokenizer\n",
        "from pytorch_transformers import BertConfig,BertForQuestionAnswering\n",
        "from torch.utils.data import (DataLoader, RandomSampler, SequentialSampler,\n",
        "                              TensorDataset)\n",
        "import torch"
      ],
      "execution_count": 0,
      "outputs": []
    },
    {
      "cell_type": "code",
      "metadata": {
        "id": "Au7bnbrumkwM",
        "colab_type": "code",
        "colab": {}
      },
      "source": [
        "! mkdir output"
      ],
      "execution_count": 0,
      "outputs": []
    },
    {
      "cell_type": "markdown",
      "metadata": {
        "id": "LWmm3IJsgIui",
        "colab_type": "text"
      },
      "source": [
        "infer.py has the code to run inference for one question - answer pair at a time. It can be modified to run multiple pairs."
      ]
    },
    {
      "cell_type": "code",
      "metadata": {
        "id": "34FAP4itVoRa",
        "colab_type": "code",
        "colab": {}
      },
      "source": [
        "from infer import load_artifacts,feature_extract,decode_ouput\n",
        "model_path = \"drive/My Drive/colab/py-transformers/\"\n",
        "model,tokenizer,config = load_artifacts(model_path)"
      ],
      "execution_count": 0,
      "outputs": []
    },
    {
      "cell_type": "code",
      "metadata": {
        "id": "K8I35OoHTlth",
        "colab_type": "code",
        "cellView": "form",
        "outputId": "cf4689e1-b94a-4f89-a5fc-82d41ba5f78f",
        "colab": {
          "base_uri": "https://localhost:8080/",
          "height": 34
        }
      },
      "source": [
        "#@title QA\n",
        "Context = \"If you're looking for something in the Calangute-Baga area, I recommend Chalston Beach Resort. Reasonably priced, great staff, great property, and very close to all the night life.\"  #@param {type:\"string\"}\n",
        "Question = \"what is the best place to stay ?\" #@param {type:\"string\"}\n",
        "inputs,features,examples,example_indices = feature_extract(Context,Question,tokenizer)\n",
        "ouputs = model(**inputs)\n",
        "nbest,best = decode_ouput(ouputs,features,examples,example_indices)\n",
        "print(best)\n"
      ],
      "execution_count": 0,
      "outputs": [
        {
          "output_type": "stream",
          "text": [
            "Chalston Beach Resort\n"
          ],
          "name": "stdout"
        }
      ]
    }
  ]
}